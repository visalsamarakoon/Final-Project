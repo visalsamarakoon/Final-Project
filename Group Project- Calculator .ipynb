{
 "cells": [
  {
   "cell_type": "markdown",
   "id": "1fcd4bae",
   "metadata": {},
   "source": [
    "# Final Group Project - Basic Calculator"
   ]
  },
  {
   "cell_type": "markdown",
   "id": "dc548d5d",
   "metadata": {},
   "source": [
    "## Team 02\n",
    "## - Dulshan Welengoda\n",
    "## - Mark Fernando\n",
    "## - Visal Samarakoon\n",
    "## - Shehara Paris\n",
    "\n",
    "##  Date- 2022.10.13"
   ]
  },
  {
   "cell_type": "markdown",
   "id": "dc0a4d4e",
   "metadata": {},
   "source": [
    "### This is a basic calculator program developed using the python language allowing the user to perform basic mathematical operations."
   ]
  },
  {
   "cell_type": "markdown",
   "id": "be3a034a",
   "metadata": {},
   "source": [
    "### GitHub URL: https://github.com/visalsamarakoon/Final-Project"
   ]
  },
  {
   "cell_type": "code",
   "execution_count": 1,
   "id": "99bea907",
   "metadata": {},
   "outputs": [
    {
     "name": "stdout",
     "output_type": "stream",
     "text": [
      "Operations \n",
      " add - a \n",
      " substract - s \n",
      " multiply - m \n",
      " devide - d \n",
      " power - p \n",
      " square root- sr\n",
      "Enter operation: a\n",
      "Enter no 1: 1\n",
      "Enter no 2: 2\n",
      "Total: 3.0\n",
      "Want to continue(1) - Want to exit(0)1\n",
      "Enter operation: s\n",
      "Enter no 1: 3\n",
      "Enter no 2: 2\n",
      "Total: 1.0\n",
      "Want to continue(1) - Want to exit(0)1\n",
      "Enter operation: m\n",
      "Enter no 1: 3\n",
      "Enter no 2: 2\n",
      "Total: 6.0\n",
      "Want to continue(1) - Want to exit(0)1\n",
      "Enter operation: d\n",
      "Enter no 1: 6\n",
      "Enter no 2: 3\n",
      "Total: 2.0\n",
      "Want to continue(1) - Want to exit(0)1\n",
      "Enter operation: p\n",
      "Enter no : 2\n",
      "Enter power :2\n",
      "Total: 4.0\n",
      "Want to continue(1) - Want to exit(0)1\n",
      "Enter operation: sr\n",
      "Enter no : 4\n",
      "Total: 2.0\n",
      "Want to continue(1) - Want to exit(0)0\n"
     ]
    }
   ],
   "source": [
    "print(\"Operations \\n add - a \\n substract - s \\n multiply - m \\n devide - d \\n power - p \\n square root- sr\")\n",
    "x = 1\n",
    "while x != 0:\n",
    "    \n",
    "    import math\n",
    "    operation = str(input(\"Enter operation: \"))\n",
    "    if operation == \"p\":\n",
    "        num1 = float(input(\"Enter no : \"))\n",
    "        num2 = 1\n",
    "        power = int(input(\"Enter power :\"))\n",
    "    elif operation == \"sr\":\n",
    "        num1 = float(input(\"Enter no : \"))\n",
    "        num2 = 1\n",
    "        power = 1\n",
    "    else:\n",
    "        num1 = float(input(\"Enter no 1: \"))\n",
    "        num2 = float(input(\"Enter no 2: \"))\n",
    "        power = 1\n",
    "\n",
    "    def calculator(num1,num2,operation,power):\n",
    "        if operation == \"a\":\n",
    "            print(f\"Total: {num1 + num2}\")\n",
    "        elif operation == \"s\":\n",
    "            print(f\"Total: {num1 - num2}\")\n",
    "        elif operation == \"m\":\n",
    "            print(f\"Total: {num1 * num2}\")\n",
    "        elif operation == \"d\":\n",
    "            print(f\"Total: {num1 / num2}\")\n",
    "        elif operation == \"p\":\n",
    "            print(f\"Total: {num1**power}\")\n",
    "        elif operation == \"sr\":\n",
    "            print(f\"Total: {math.sqrt(num1)}\")\n",
    "        else:\n",
    "            print(\"Enter correct operation\")\n",
    "\n",
    "    calculator(num1,num2,operation,power)\n",
    "    \n",
    "    \n",
    "    x = int(input(\"Want to continue(1) - Want to exit(0)\"))\n",
    "    if x == 0:\n",
    "        break\n",
    "\n",
    "\n",
    "    "
   ]
  },
  {
   "cell_type": "code",
   "execution_count": null,
   "id": "339794e2",
   "metadata": {},
   "outputs": [],
   "source": []
  }
 ],
 "metadata": {
  "kernelspec": {
   "display_name": "Python 3 (ipykernel)",
   "language": "python",
   "name": "python3"
  },
  "language_info": {
   "codemirror_mode": {
    "name": "ipython",
    "version": 3
   },
   "file_extension": ".py",
   "mimetype": "text/x-python",
   "name": "python",
   "nbconvert_exporter": "python",
   "pygments_lexer": "ipython3",
   "version": "3.9.12"
  }
 },
 "nbformat": 4,
 "nbformat_minor": 5
}
